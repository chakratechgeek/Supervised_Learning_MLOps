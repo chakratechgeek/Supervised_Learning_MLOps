{
 "cells": [
  {
   "cell_type": "markdown",
   "id": "a000b7aa",
   "metadata": {
    "papermill": {
     "duration": 0.002512,
     "end_time": "2024-07-26T06:05:15.958816",
     "exception": false,
     "start_time": "2024-07-26T06:05:15.956304",
     "status": "completed"
    },
    "tags": []
   },
   "source": [
    "# Challenge \n",
    "Rossmann operates over 3,000 drug stores in 7 European countries. Currently, Rossmann store managers are ***tasked with predicting their daily sales for up to six weeks in advance***. Store sales are influenced by many factors, including promotions, competition, school and state holidays, seasonality, and locality. With thousands of individual managers predicting sales based on their unique circumstances, the accuracy of results can be quite varied.\n",
    "\n",
    "In their first Kaggle competition, Rossmann is challenging you to predict 6 weeks of daily sales for 1,115 stores located across Germany. Reliable sales forecasts enable store managers to create effective staff schedules that increase productivity and motivation. By helping Rossmann create a robust prediction model, you will help store managers stay focused on what’s most important to them: their customers and their teams! "
   ]
  },
  {
   "cell_type": "markdown",
   "id": "f0b23cc4",
   "metadata": {
    "papermill": {
     "duration": 0.001718,
     "end_time": "2024-07-26T06:05:15.962711",
     "exception": false,
     "start_time": "2024-07-26T06:05:15.960993",
     "status": "completed"
    },
    "tags": []
   },
   "source": [
    "# Predict Store Sales \n",
    "***What we learn from this notebook***\n",
    "\n",
    "1. **Data Collection and Preparation**\n",
    "   * Gather Data\n",
    "   * Remove **TOTALLY** unrelated columns from dataset\n",
    "   * Encode cateorical features\n",
    "   * Handle too many unique values in categorical features (Cordinality)\n",
    "   * Missing value handling \n",
    "  \n",
    "  \n",
    "2. **Exploratory Data Analysis (EDA)**\n",
    "   * Remove outliers\n",
    "   * Understand data distribution (mean, median, mode, standard deviation).\n",
    "   * Check for correlations & covariance between features.\n",
    "   \n",
    "   \n",
    "3. **Feature Selection & Engineering**\n",
    "   *  Select relevant features based on correlation, mutual information, feature importance, Lasso, RFE, R-squared, p-values, and VIF.\n",
    "   * Create new features if necessary.\n",
    "   \n",
    "   \n",
    "4. **Check for Assumptions of Linear Regression**\n",
    "   * **Linearity**: The relationship between predictors and the target should be linear.\n",
    "   * **Independence**: Observations should be independent of each other,\n",
    "   * **Homoscedasticity**: Constant variance of the residuals\n",
    "   * **Normality of Residuals**: Residuals should be normally distributed.\n",
    "   * **No Multicollinearity**: Predictors should not be highly correlated with each other.\n",
    "   \n",
    "   \n",
    "5. **Model Training**\n",
    "   * Split data into training and testing sets.\n",
    "   * Train the multiple linear regression model.\n",
    "   \n",
    "   \n",
    "6. **Model Evaluation**\n",
    "   * Evaluate the model using metrics like R-squared, adjusted R-squared, Mean Squared Error (MSE), and Root Mean Squared Error (RMSE).\n",
    "   * Check residual plots to ensure assumptions are met.\n",
    "   \n",
    "   \n",
    "7. **Predict Sales based on new model created**\n",
    " "
   ]
  },
  {
   "cell_type": "markdown",
   "id": "150b8fcb",
   "metadata": {
    "papermill": {
     "duration": 0.001645,
     "end_time": "2024-07-26T06:05:15.966355",
     "exception": false,
     "start_time": "2024-07-26T06:05:15.964710",
     "status": "completed"
    },
    "tags": []
   },
   "source": [
    "## 1. Data Collection and Preparation"
   ]
  },
  {
   "cell_type": "code",
   "execution_count": 1,
   "id": "c5e9c2ec",
   "metadata": {
    "execution": {
     "iopub.execute_input": "2024-07-26T06:05:15.971686Z",
     "iopub.status.busy": "2024-07-26T06:05:15.971293Z",
     "iopub.status.idle": "2024-07-26T06:05:16.741143Z",
     "shell.execute_reply": "2024-07-26T06:05:16.740039Z"
    },
    "papermill": {
     "duration": 0.775254,
     "end_time": "2024-07-26T06:05:16.743471",
     "exception": false,
     "start_time": "2024-07-26T06:05:15.968217",
     "status": "completed"
    },
    "tags": []
   },
   "outputs": [
    {
     "name": "stdout",
     "output_type": "stream",
     "text": [
      "/kaggle/input/rossmann-store-sales-dataset/store.csv\n",
      "/kaggle/input/rossmann-store-sales-dataset/train.csv\n",
      "/kaggle/input/rossmann-store-sales-dataset/test.csv\n"
     ]
    }
   ],
   "source": [
    "# This Python 3 environment comes with many helpful analytics libraries installed\n",
    "# It is defined by the kaggle/python Docker image: https://github.com/kaggle/docker-python\n",
    "# For example, here's several helpful packages to load\n",
    "\n",
    "import numpy as np # linear algebra\n",
    "import pandas as pd # data processing, CSV file I/O (e.g. pd.read_csv)\n",
    "\n",
    "# Input data files are available in the read-only \"../input/\" directory\n",
    "# For example, running this (by clicking run or pressing Shift+Enter) will list all files under the input directory\n",
    "\n",
    "import os\n",
    "for dirname, _, filenames in os.walk('/kaggle/input/'):\n",
    "    for filename in filenames:\n",
    "        print(os.path.join(dirname, filename))\n",
    "\n",
    "# You can write up to 20GB to the current directory (/kaggle/working/) that gets preserved as output when you create a version using \"Save & Run All\" \n",
    "# You can also write temporary files to /kaggle/temp/, but they won't be saved outside of the current session"
   ]
  },
  {
   "cell_type": "code",
   "execution_count": null,
   "id": "f08c4d71",
   "metadata": {
    "papermill": {
     "duration": 0.001855,
     "end_time": "2024-07-26T06:05:16.747515",
     "exception": false,
     "start_time": "2024-07-26T06:05:16.745660",
     "status": "completed"
    },
    "tags": []
   },
   "outputs": [],
   "source": []
  }
 ],
 "metadata": {
  "kaggle": {
   "accelerator": "none",
   "dataSources": [
    {
     "datasetId": 5447690,
     "sourceId": 9037230,
     "sourceType": "datasetVersion"
    }
   ],
   "dockerImageVersionId": 30746,
   "isGpuEnabled": false,
   "isInternetEnabled": true,
   "language": "python",
   "sourceType": "notebook"
  },
  "kernelspec": {
   "display_name": "Python 3",
   "language": "python",
   "name": "python3"
  },
  "language_info": {
   "codemirror_mode": {
    "name": "ipython",
    "version": 3
   },
   "file_extension": ".py",
   "mimetype": "text/x-python",
   "name": "python",
   "nbconvert_exporter": "python",
   "pygments_lexer": "ipython3",
   "version": "3.10.13"
  },
  "papermill": {
   "default_parameters": {},
   "duration": 3.780323,
   "end_time": "2024-07-26T06:05:17.168894",
   "environment_variables": {},
   "exception": null,
   "input_path": "__notebook__.ipynb",
   "output_path": "__notebook__.ipynb",
   "parameters": {},
   "start_time": "2024-07-26T06:05:13.388571",
   "version": "2.5.0"
  }
 },
 "nbformat": 4,
 "nbformat_minor": 5
}
